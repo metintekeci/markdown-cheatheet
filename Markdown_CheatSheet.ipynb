{
 "cells": [
  {
   "cell_type": "markdown",
   "metadata": {},
   "source": [
    "# Markdown Cheatsheet"
   ]
  },
  {
   "cell_type": "markdown",
   "metadata": {},
   "source": [
    "This is a jupyter notebook I have used for learning markdown language.\n",
    "Full Reference : https://www.markdowntutorial.com/ "
   ]
  },
  {
   "cell_type": "markdown",
   "metadata": {},
   "source": [
    "### Bold - Italic "
   ]
  },
  {
   "cell_type": "markdown",
   "metadata": {},
   "source": [
    "Bold **Bold**  \n",
    "italic _italic_  \n",
    "bold and italic **_bold and italic_**"
   ]
  },
  {
   "cell_type": "markdown",
   "metadata": {},
   "source": [
    "### Headers"
   ]
  },
  {
   "cell_type": "markdown",
   "metadata": {},
   "source": [
    "To make headers in Markdown, you preface the phrase with a hash mark (#). You place the same number of hash marks as the size of the header you want. For example, for a header one, you'd use one hash mark (# Header One), while for a header three, you'd use three (### Header Three)."
   ]
  },
  {
   "cell_type": "markdown",
   "metadata": {},
   "source": [
    "# Header one \n",
    "## Header two\n",
    "### Header three\n",
    "#### Header four\n",
    "##### Header five\n",
    "###### Header six"
   ]
  },
  {
   "cell_type": "markdown",
   "metadata": {},
   "source": [
    "### Links"
   ]
  },
  {
   "cell_type": "markdown",
   "metadata": {},
   "source": [
    "The first link style is called an _inline link_. To create an inline link, you wrap the link text in brackets ( [ ] ), and then you wrap the link in parenthesis ( ( ) )."
   ]
  },
  {
   "cell_type": "markdown",
   "metadata": {},
   "source": [
    "[Search for it.](www.google.com)"
   ]
  },
  {
   "cell_type": "markdown",
   "metadata": {},
   "source": [
    "ou can add emphasis to link texts, if you like. In the box below, make the phrase \"really, really\" bold, and have the entire sentence link to www.dailykitten.com. You'll want to make sure that the bold phrasing occurs within the link text brackets."
   ]
  },
  {
   "cell_type": "markdown",
   "metadata": {},
   "source": [
    "[You're **really, really** going to want to see this.](www.dailykitten.com)"
   ]
  },
  {
   "cell_type": "markdown",
   "metadata": {},
   "source": [
    "#### The Latest News from [the BBC]( www.bbc.com/news)"
   ]
  },
  {
   "cell_type": "markdown",
   "metadata": {},
   "source": [
    "The other link type is called a reference link. As the name implies, the link is actually a reference to another place in the document. Here's an example of what we mean:"
   ]
  },
  {
   "cell_type": "markdown",
   "metadata": {},
   "source": [
    "Here's [a link to something else][another place].\n",
    "Here's [yet another link][another-link].\n",
    "And now back to [the first link][another place].\n",
    "\n",
    "[another place]: www.github.com\n",
    "[another-link]: www.google.com"
   ]
  },
  {
   "cell_type": "markdown",
   "metadata": {},
   "source": [
    "Do you want to [see something fun][a fun place]?\n",
    "\n",
    "Well, do I have [the website for you][another fun place]!\n",
    "\n",
    "[a fun place]:www.zombo.com\n",
    "[another fun place]:www.stumbleupon.com"
   ]
  },
  {
   "cell_type": "markdown",
   "metadata": {},
   "source": [
    "### Images"
   ]
  },
  {
   "cell_type": "markdown",
   "metadata": {},
   "source": [
    "The difference between ***links*** and ***images*** is that images are prefaced with an exclamation point ( ! )."
   ]
  },
  {
   "cell_type": "markdown",
   "metadata": {},
   "source": [
    "to create an inline image link to https://octodex.github.com/images/bannekat.png, with an alt text that says, Benjamin Bannekat, you'd write this in Markdown: ![Benjamin Bannekat](https://octodex.github.com/images/bannekat.png)."
   ]
  },
  {
   "cell_type": "markdown",
   "metadata": {},
   "source": [
    "For a reference image, you'll follow the same pattern as a reference link. You'll precede the Markdown with an exclamation point, then provide two brackets for the alt text, and then two more for the image tag, like this: "
   ]
  },
  {
   "cell_type": "markdown",
   "metadata": {},
   "source": [
    "![The founding father][Father] \n",
    "\n",
    "[Father]:http://octodex.github.com/images/founding-father.jpg"
   ]
  },
  {
   "cell_type": "markdown",
   "metadata": {},
   "source": [
    "[Black cat][Black]\n",
    "\n",
    "[Orange cat][Orange]\n",
    "\n",
    "[Black]: https://upload.wikimedia.org/wikipedia/commons/a/a3/81_INF_DIV_SSI.jpg\n",
    "\n",
    "[Orange]:http://icons.iconarchive.com/icons/google/noto-emoji-animals-nature/256/22221-cat-icon.png"
   ]
  },
  {
   "cell_type": "markdown",
   "metadata": {},
   "source": [
    "### Blockquotes"
   ]
  },
  {
   "cell_type": "markdown",
   "metadata": {},
   "source": [
    "To create a block quote, all you have to do is preface a line with the \"greater than\" caret (>)"
   ]
  },
  {
   "cell_type": "markdown",
   "metadata": {},
   "source": [
    "I read this interesting quote the other day:\n",
    "\n",
    ">**\"Her eyes had called him and his soul had leaped at the call. To live, to err, to fall, to triumph, to recreate life out of life!\"**"
   ]
  },
  {
   "cell_type": "markdown",
   "metadata": {},
   "source": [
    "### Lists"
   ]
  },
  {
   "cell_type": "markdown",
   "metadata": {},
   "source": [
    "To create an unordered list, preface each item in the list with an asterisk ( * ) followed by a space. Each list item also gets its own line. For example, a grocery list in Markdown might look like this:"
   ]
  },
  {
   "cell_type": "markdown",
   "metadata": {},
   "source": [
    "* Milk\n",
    "* Eggs\n",
    "* Salmon\n",
    "* Butter"
   ]
  },
  {
   "cell_type": "markdown",
   "metadata": {},
   "source": [
    "To create an ordered list, replace asterisks (*) above with the order of item. Here is a recipe as a sample:"
   ]
  },
  {
   "cell_type": "markdown",
   "metadata": {},
   "source": [
    "**Salmon with egg** recipe: \n",
    "1. Crack three eggs over a bowl\n",
    "2. Pour a gallon of milk into the bowl\n",
    "3. Rub the salmon vigorously with butter\n",
    "4. Drop the salmon into the egg-milk bowl"
   ]
  },
  {
   "cell_type": "markdown",
   "metadata": {},
   "source": [
    "**Nested Lists** are of no difference: just remember the number of space to indent"
   ]
  },
  {
   "cell_type": "markdown",
   "metadata": {},
   "source": [
    "* Calculus\n",
    "    * A professor, \n",
    "        * Has no hair\n",
    "        * Often wears green\n",
    "\n",
    "* Castafiore\n",
    "    * An opera singer\n",
    "        *Has white hair\n",
    "        *Is possibly mentally unwell"
   ]
  },
  {
   "cell_type": "markdown",
   "metadata": {},
   "source": [
    "**Another example** of nested list blended with paragraphs:"
   ]
  },
  {
   "cell_type": "markdown",
   "metadata": {},
   "source": [
    "1. Cut the cheese\n",
    "\n",
    " Make sure that the cheese is cut into little triangles.\n",
    "\n",
    "2. Slice the tomatoes\n",
    "\n",
    " Be careful when holding the knife.\n",
    " \n",
    " For more help on tomato slicing, see Thomas Jefferson's seminal essay _Tom Ate Those_."
   ]
  },
  {
   "cell_type": "markdown",
   "metadata": {},
   "source": [
    "### Paragraphs"
   ]
  },
  {
   "cell_type": "markdown",
   "metadata": {},
   "source": [
    "##### Hard break"
   ]
  },
  {
   "cell_type": "markdown",
   "metadata": {},
   "source": [
    "If you forcefully insert a new line, you end up breaking the togetherness:"
   ]
  },
  {
   "cell_type": "markdown",
   "metadata": {},
   "source": [
    "Do I contradict myself?\n",
    "\n",
    "Very well then I contradict myself,\n",
    "\n",
    "(I am large, I contain multitudes.)"
   ]
  },
  {
   "cell_type": "markdown",
   "metadata": {},
   "source": [
    "##### Soft break"
   ]
  },
  {
   "cell_type": "markdown",
   "metadata": {},
   "source": [
    "You can accomplish this by inserting two spaces after each new line"
   ]
  },
  {
   "cell_type": "markdown",
   "metadata": {},
   "source": [
    "We pictured the meek mild creatures where  \n",
    "They dwelt in their strawy pen,  \n",
    "Nor did it occur to one of us there  \n",
    "To doubt they were kneeling then."
   ]
  },
  {
   "cell_type": "markdown",
   "metadata": {},
   "source": [
    "### Congratulations! and Next Steps:"
   ]
  },
  {
   "cell_type": "markdown",
   "metadata": {},
   "source": [
    "If you’d like to know more about these Markdown implementations, you’re welcome to explore any number of other Markdown apps and tutorials.\n",
    "\n",
    "Here are just a few:"
   ]
  },
  {
   "cell_type": "markdown",
   "metadata": {},
   "source": [
    "https://daringfireball.net/projects/markdown/\n",
    "\n",
    "https://spec.commonmark.org/dingus/\n",
    "\n",
    "https://johnmacfarlane.net/babelmark2/faq.html\n",
    "\n",
    "https://www.markdownguide.org\n",
    "\n",
    "https://www.markdownguide.org/getting-started\n",
    "\n",
    "https://dave.autonoma.ca/blog/2019/05/22/typesetting-markdown-part-1/\n",
    "\n",
    "http://idratherbewriting.com/2013/06/04/exploring-markdown-in-collaborative-authoring-to-publishing-workflows/\n",
    "\n",
    "https://en.wikipedia.org/wiki/Markdown#Example"
   ]
  }
 ],
 "metadata": {
  "kernelspec": {
   "display_name": "Python 3",
   "language": "python",
   "name": "python3"
  },
  "language_info": {
   "codemirror_mode": {
    "name": "ipython",
    "version": 3
   },
   "file_extension": ".py",
   "mimetype": "text/x-python",
   "name": "python",
   "nbconvert_exporter": "python",
   "pygments_lexer": "ipython3",
   "version": "3.7.3"
  }
 },
 "nbformat": 4,
 "nbformat_minor": 2
}
